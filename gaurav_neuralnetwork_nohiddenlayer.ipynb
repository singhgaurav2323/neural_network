{
 "cells": [
  {
   "cell_type": "code",
   "execution_count": 35,
   "metadata": {},
   "outputs": [],
   "source": [
    "# neural network forward and backward propagation with no hiddenlayer\n",
    "\n",
    "#in this AND gate is visulaised using neural network\n",
    "\n",
    "#importing libraries\n",
    "\n",
    "import numpy as np\n",
    "\n",
    "# array dataset\n",
    "X = np.array([[0,0],[0,1],[1,0],[1,1]])\n",
    "Y = np.array([[0,0,0,1]]).T"
   ]
  },
  {
   "cell_type": "code",
   "execution_count": 36,
   "metadata": {},
   "outputs": [],
   "source": [
    "# activation function signum function\n",
    "def sig(inp):\n",
    "    res=1/(1+np.exp(-inp))\n",
    "    return res\n",
    "\n",
    "#derivative activation function\n",
    "def derivative(z):\n",
    "    re=sig(z)*(1-sig(z))\n",
    "    return re"
   ]
  },
  {
   "cell_type": "code",
   "execution_count": 37,
   "metadata": {},
   "outputs": [
    {
     "name": "stdout",
     "output_type": "stream",
     "text": [
      "[[-0.22273318]\n",
      " [-0.81962917]]\n",
      "[0.22492748]\n"
     ]
    }
   ],
   "source": [
    "#weights assignment to the neural nodes\n",
    "weight=np.random.random([2,1])-1\n",
    "bias=2*np.random.random(1)-1 \n",
    "print(weight)\n",
    "print(bias)"
   ]
  },
  {
   "cell_type": "code",
   "execution_count": 38,
   "metadata": {},
   "outputs": [],
   "source": [
    "# forward propagation without hidden layer\n",
    "#output0 = X\n",
    "#output  = sig(np.dot(output0,weight)+bias)\n",
    "#print(output)"
   ]
  },
  {
   "cell_type": "code",
   "execution_count": 50,
   "metadata": {},
   "outputs": [],
   "source": [
    "lr=0.001\n",
    "\n",
    "for epochs in range(100000):\n",
    "    output0 = X\n",
    "    output  = sig(np.dot(output0,weight)+bias)\n",
    "    first_term= output-Y\n",
    "    input_last_term= np.dot(output0,weight)+bias\n",
    "    secound_term= derivative(input_last_term)\n",
    "    product_of_two_term =first_term*secound_term\n",
    "    change=np.array([[0.0],[0.0]])\n",
    "    for i in range(2):\n",
    "        for j in range(4):\n",
    "            change[i][0]+= product_of_two_term[j][0] *output0[j][i]\n",
    "    weight= weight-(lr*change)\n",
    "    \n",
    "    bias_change=[0.0]\n",
    "    for k in range(4):\n",
    "        bias_change+= product_of_two_term[k][0]*1\n",
    "    bias=bias-(lr*bias_change)\n",
    "    \n",
    "  "
   ]
  },
  {
   "cell_type": "code",
   "execution_count": 54,
   "metadata": {},
   "outputs": [
    {
     "name": "stdout",
     "output_type": "stream",
     "text": [
      "[[0.00352491]\n",
      " [0.12429925]\n",
      " [0.12430107]\n",
      " [0.85065169]]\n",
      "[[False]\n",
      " [False]\n",
      " [False]\n",
      " [ True]]\n"
     ]
    }
   ],
   "source": [
    "output  = sig(np.dot(X,weight)+bias)\n",
    "print(output)\n",
    "output=(output>0.5)\n",
    "print(output)"
   ]
  },
  {
   "cell_type": "code",
   "execution_count": null,
   "metadata": {},
   "outputs": [],
   "source": []
  },
  {
   "cell_type": "code",
   "execution_count": null,
   "metadata": {},
   "outputs": [],
   "source": []
  }
 ],
 "metadata": {
  "kernelspec": {
   "display_name": "Python 3",
   "language": "python",
   "name": "python3"
  },
  "language_info": {
   "codemirror_mode": {
    "name": "ipython",
    "version": 3
   },
   "file_extension": ".py",
   "mimetype": "text/x-python",
   "name": "python",
   "nbconvert_exporter": "python",
   "pygments_lexer": "ipython3",
   "version": "3.6.1"
  }
 },
 "nbformat": 4,
 "nbformat_minor": 2
}
