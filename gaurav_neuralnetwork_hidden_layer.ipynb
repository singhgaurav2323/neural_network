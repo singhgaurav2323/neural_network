{
 "cells": [
  {
   "cell_type": "code",
   "execution_count": 1,
   "metadata": {},
   "outputs": [],
   "source": [
    "# neural network forward and backward propagation with  hiddenlayer\n",
    "\n",
    "#in this AND gate is visulaised using neural network\n",
    "\n",
    "#importing libraries\n",
    "\n",
    "import numpy as np\n",
    "\n",
    "# array dataset\n",
    "X = np.array([[0,0],[0,1],[1,0],[1,1]])\n",
    "Y = np.array([[0,0,0,1]]).T"
   ]
  },
  {
   "cell_type": "code",
   "execution_count": 6,
   "metadata": {},
   "outputs": [],
   "source": [
    "# activation function signum function\n",
    "def sig(inp):\n",
    "    res=1/(1+np.exp(-inp))\n",
    "    return res\n",
    "\n",
    "#derivative activation function\n",
    "def derivativeSig(z):\n",
    "    re=sig(z)*(1-sig(z))\n",
    "    return re"
   ]
  },
  {
   "cell_type": "code",
   "execution_count": 7,
   "metadata": {},
   "outputs": [],
   "source": [
    "# weights and bias \n",
    "wh=2*np.random.random([2,2])-1\n",
    "bh=2*np.random.random([1,2])-1\n",
    "wo=2*np.random.random([2,1])-1\n",
    "bo=np.random.random([1,1])-1\n",
    "\n"
   ]
  },
  {
   "cell_type": "code",
   "execution_count": 8,
   "metadata": {},
   "outputs": [
    {
     "data": {
      "text/plain": [
       "array([[0.53961397],\n",
       "       [0.53085206],\n",
       "       [0.54589674],\n",
       "       [0.53605182]])"
      ]
     },
     "execution_count": 8,
     "metadata": {},
     "output_type": "execute_result"
    }
   ],
   "source": [
    "# forward propagation without hidden layer\n",
    "output0=X\n",
    "inputHidden=np.dot(output0,wh)+bh\n",
    "outputHidden=sig(inputHidden)\n",
    "inputForOutputLayer=np.dot(outputHidden,wo)+bo\n",
    "output=sig(inputForOutputLayer)\n",
    "output"
   ]
  },
  {
   "cell_type": "code",
   "execution_count": 23,
   "metadata": {},
   "outputs": [],
   "source": [
    "lr=0.01\n",
    "for iter in range(90000):\n",
    "    output0=X\n",
    "    inputHidden=np.dot(output0,wh)+bh\n",
    "    outputHidden=sig(inputHidden)\n",
    "    inputForOutputLayer=np.dot(outputHidden,wo)+bo\n",
    "    output=sig(inputForOutputLayer)\n",
    "    \n",
    "    First_term_output_layer=output-Y\n",
    "    second_term_output_layer=derivativeSig(inputForOutputLayer)\n",
    "    First_two_output_layer=First_term_output_layer*second_term_output_layer\n",
    "\n",
    "    first_term_hidden_layer=np.dot(First_two_output_layer,wo.T)\n",
    "    second_term_hidden_layer=derivativeSig(inputHidden)\n",
    "    First_two_hidden_layer=first_term_hidden_layer*second_term_hidden_layer\n",
    "\n",
    "    changes_output=np.dot(outputHidden.T,First_two_output_layer)\n",
    "    changes_output_bias=np.sum(First_two_output_layer, axis= 0, keepdims=True)\n",
    "\n",
    "    changes_hidden=np.dot(output.T,First_two_hidden_layer)\n",
    "    changes_hidden_bias=np.sum(First_two_hidden_layer, axis= 0, keepdims=True)\n",
    "\n",
    "    wo=wo-lr* changes_output \n",
    "    bo=bo-lr*  changes_output_bias\n",
    "    wh=wh-lr* changes_hidden\n",
    "    bh=bh-lr*  changes_hidden_bias\n"
   ]
  },
  {
   "cell_type": "code",
   "execution_count": 27,
   "metadata": {},
   "outputs": [
    {
     "name": "stdout",
     "output_type": "stream",
     "text": [
      "[[3.79851122e-04]\n",
      " [9.11786993e-03]\n",
      " [1.65972183e-03]\n",
      " [9.90773284e-01]]\n",
      "[[False]\n",
      " [False]\n",
      " [False]\n",
      " [ True]]\n"
     ]
    }
   ],
   "source": [
    "output0=X\n",
    "inputHidden=np.dot(output0,wh)+bh\n",
    "outputHidden=sig(inputHidden)\n",
    "inputForOutputLayer=np.dot(outputHidden,wo)+bo\n",
    "output=sig(inputForOutputLayer)\n",
    "print(output)\n",
    "print((output>0.5))#wh,bh,wo,bo\n"
   ]
  },
  {
   "cell_type": "code",
   "execution_count": null,
   "metadata": {},
   "outputs": [],
   "source": []
  },
  {
   "cell_type": "code",
   "execution_count": null,
   "metadata": {},
   "outputs": [],
   "source": []
  }
 ],
 "metadata": {
  "kernelspec": {
   "display_name": "Python 3",
   "language": "python",
   "name": "python3"
  },
  "language_info": {
   "codemirror_mode": {
    "name": "ipython",
    "version": 3
   },
   "file_extension": ".py",
   "mimetype": "text/x-python",
   "name": "python",
   "nbconvert_exporter": "python",
   "pygments_lexer": "ipython3",
   "version": "3.6.1"
  }
 },
 "nbformat": 4,
 "nbformat_minor": 2
}
